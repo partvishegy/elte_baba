{
 "cells": [
  {
   "cell_type": "markdown",
   "metadata": {},
   "source": [
    "# Homework V.\n",
    "- file I/O\n",
    "- dictionaries\n",
    "- sets"
   ]
  },
  {
   "cell_type": "markdown",
   "metadata": {},
   "source": [
    "#### Dictionary practice"
   ]
  },
  {
   "cell_type": "code",
   "execution_count": null,
   "metadata": {},
   "outputs": [],
   "source": [
    "# 0\n",
    "# Create a new dictionary that stores the number of fruits you have at home by type.\n",
    "# For example if you have six apples and some other stuff, it should look like this:\n",
    "\n",
    "# {\"apple\": 6,\n",
    "#  ...\n",
    "# }\n",
    "\n",
    "# Let it contain at least three fruits, you can include fruits with zero count."
   ]
  },
  {
   "cell_type": "code",
   "execution_count": null,
   "metadata": {},
   "outputs": [],
   "source": [
    "# 1\n",
    "# Suppose, you eat one from every type of fruit you have (with non-zero count).\n",
    "# Modify your fruit dictionary to have one less of each type of fruit\n",
    "# compared to when you defined it."
   ]
  },
  {
   "cell_type": "code",
   "execution_count": null,
   "metadata": {},
   "outputs": [],
   "source": [
    "# 2\n",
    "# Write a function that takes a string (fruit_name), and checks how many do you have\n",
    "# of that type of fruit, and prints a full sentence that states the amount."
   ]
  },
  {
   "cell_type": "code",
   "execution_count": null,
   "metadata": {},
   "outputs": [],
   "source": [
    "# (a)\n",
    "# Write a function that takes a string as input,\n",
    "# splits the input string,\n",
    "# and counts the appearances of every distinct word,\n",
    "# stores the wordcounts in a dictionary like this:\n",
    "\n",
    "#    {\"word\": <number_of_appearances>,\n",
    "#     \"other_word\": <number_of_appearances>,\n",
    "#     ...\n",
    "#    }\n",
    "\n",
    "# Then returns the dictionary.\n",
    "\n",
    "# Test it on a the following string:\n",
    "example_string = 'boci, boci tarka, se füle, se farka, oda megyünk lakni, ahol tejet kapni.'"
   ]
  },
  {
   "cell_type": "code",
   "execution_count": null,
   "metadata": {},
   "outputs": [],
   "source": [
    "# (b0)\n",
    "# Write a function that takes a file path, reads the file,\n",
    "# changes the file content to lowercase, then\n",
    "# runs the previously written word counter function on the now lowercase content\n",
    "# and finally returns the count dictionary.\n",
    "# This is just a wrapper function to the previous function from (a).\n",
    "# No need to wrewrite or redefine it."
   ]
  },
  {
   "cell_type": "code",
   "execution_count": null,
   "metadata": {},
   "outputs": [],
   "source": [
    "# (b1)\n",
    "# Run the function from b0 on alice.txt."
   ]
  },
  {
   "cell_type": "code",
   "execution_count": null,
   "metadata": {},
   "outputs": [],
   "source": [
    "# (c0)\n",
    "# write a function that takes a dictonary, and a file name (string).\n",
    "# The function should iterate through the items of the dictionary,\n",
    "# write each item in the file specified as input argument.\n",
    "# Write every key in a new line with the value next to it, separated by a tab ('\\t')."
   ]
  },
  {
   "cell_type": "code",
   "execution_count": null,
   "metadata": {},
   "outputs": [],
   "source": [
    "# (c1)\n",
    "# Run this function with the wordcount dictionary you got when running the function from part (b1).\n",
    "# And call the output file alice_word_count.tsv. Examine the output file,\n",
    "# and make some notes about how the word counter function (from b0) could be improved."
   ]
  },
  {
   "cell_type": "markdown",
   "metadata": {},
   "source": [
    "#### Set practice"
   ]
  },
  {
   "cell_type": "code",
   "execution_count": null,
   "metadata": {},
   "outputs": [],
   "source": [
    "# (d)\n",
    "# Write a function called unique_words() that takes a string and returns the set of unique words in it.\n",
    "# (Wihout dealing with special characters:  \"Chair\", \"chair\" and \"chair.\" are distinct words.)\n",
    "# Test it on example_sting!\n"
   ]
  },
  {
   "cell_type": "code",
   "execution_count": null,
   "metadata": {},
   "outputs": [],
   "source": [
    "# (e0)\n",
    "# Write a function that takes two strings, get unique words from them, then\n",
    "# return the set of words, that appear in both strings.\n",
    "# Test it with example_string and second_example!\n",
    "second_example = \"boci, boci megfázott, varrtam neki nadrágot, nem akarta felvenni, ágyba kellett fektetni\""
   ]
  },
  {
   "cell_type": "code",
   "execution_count": null,
   "metadata": {},
   "outputs": [],
   "source": [
    "# (e1)\n",
    "# Use the function from e0 to find words that appear in both section I and section II. of alice.txt\n",
    "# For this you will need to get the sections first. Don't worry, the book is just a long string,\n",
    "# and the sections are separated nicely with the word CHAPTER, so you can split the whole book\n",
    "# by chapters and take the parts you need, or find the borders of the chapters and slice out the\n",
    "# parts you need by indices.\n",
    "# Then you can use each cahpter as an argument for your function (from e0)."
   ]
  },
  {
   "cell_type": "code",
   "execution_count": null,
   "metadata": {},
   "outputs": [],
   "source": [
    "# (e2)\n",
    "# Returns only the words, that are new to the second string argument!"
   ]
  },
  {
   "cell_type": "code",
   "execution_count": null,
   "metadata": {},
   "outputs": [],
   "source": [
    "# (e3)\n",
    "# What are the words used only in section I. throughout the book?"
   ]
  }
 ],
 "metadata": {
  "kernelspec": {
   "display_name": "Python 3",
   "language": "python",
   "name": "python3"
  },
  "language_info": {
   "codemirror_mode": {
    "name": "ipython",
    "version": 3
   },
   "file_extension": ".py",
   "mimetype": "text/x-python",
   "name": "python",
   "nbconvert_exporter": "python",
   "pygments_lexer": "ipython3",
   "version": "3.6.7"
  }
 },
 "nbformat": 4,
 "nbformat_minor": 2
}
