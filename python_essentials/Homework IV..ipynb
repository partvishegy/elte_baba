{
 "cells": [
  {
   "cell_type": "markdown",
   "metadata": {},
   "source": [
    "# Homework IV."
   ]
  },
  {
   "cell_type": "markdown",
   "metadata": {},
   "source": [
    "- i/o\n",
    "- functions\n",
    "\n"
   ]
  },
  {
   "cell_type": "markdown",
   "metadata": {},
   "source": [
    "If you find any of the tasks unclear, or you r please do not hesitate to contact me!"
   ]
  },
  {
   "cell_type": "code",
   "execution_count": null,
   "metadata": {},
   "outputs": [],
   "source": [
    "# Run this cell to get the folders you are going to work with!\n",
    "# Do not worry about the unknown syntax in this cell, you will not need to use it.\n",
    "import os\n",
    "try:\n",
    "    os.makedirs('./data/raw')\n",
    "    os.makedirs('./data/processed')\n",
    "except FileExistsError:\n",
    "    print('You already have these folders!')\n",
    "    \n"
   ]
  },
  {
   "cell_type": "code",
   "execution_count": null,
   "metadata": {},
   "outputs": [],
   "source": [
    "#You just created three folders. Let's list our folders berfore we start working with them!\n",
    "\n",
    "# print out the path of the current working directory with os.getcwd() (\"get current working directory\")\n",
    "print(\"My current working directory is:\")\n",
    "# <your code here>"
   ]
  },
  {
   "cell_type": "code",
   "execution_count": null,
   "metadata": {},
   "outputs": [],
   "source": [
    "# Now list the files and folders of this directory with os.listdir!\n",
    "print(\"The contents of my current working directory:\")\n",
    "# <your code here>"
   ]
  },
  {
   "cell_type": "code",
   "execution_count": null,
   "metadata": {},
   "outputs": [],
   "source": [
    "# You should see a folder named data in your cwd\n",
    "# Now list the contents of the data folder with os.listir(data)!\n",
    "print(\"The contents of the data folder:\")\n",
    "# <your code here>"
   ]
  },
  {
   "cell_type": "code",
   "execution_count": null,
   "metadata": {},
   "outputs": [],
   "source": [
    "# Imagine that you are working on an experiment, that involves rotating and resizing pictures.\n",
    "# You have a script to analyze the stimuli you will use, and it tells you the optimal size and\n",
    "# orientation values you should use as default. The script has been running for two days.\n",
    "# Now it is finished, and you can check out the ouptut:\n",
    "\n",
    "data = [('mouse_photo.jpg', 100, 100, 0), ('cat_photo.jpg', 120, 240, 0),\n",
    "        ('rabbit_photo.jpg', 180, 180, 0), ('shark_photo.jpg', 100, 100, 0),\n",
    "        ('noise.jpg', 120, 120, 0)] # it is 49000 itmes longer, but we imagine the rest.\n",
    "\n",
    "# The strings are the names of the picture files, the first two numbers are the dimensions of the \n",
    "# picture in pixels, and the third is orientation (clockwise rotation in degrees).\n",
    "\n",
    "# While looking at the values, you realize, that the person who wrote this script, did not save the output\n",
    "# values to a file, just printed them out to the console. So you decide to iterate on this data variable,\n",
    "# and save the values yourself!\n",
    "\n",
    "# Iterate on the data variable, and write each item (one item is made up of four values between parentheses)\n",
    "# on a separate line. On each line separate the values with semicolons,\n",
    "# and finish each line with a newline symbol ('\\n').\n",
    "\n",
    "# So the first linse should be:\n",
    "# 'mouse_photo.jpg;100;100;0;\\n'\n",
    "\n",
    "# Save the new file to the raw folder inside the data folder, and name it animals.csv"
   ]
  },
  {
   "cell_type": "code",
   "execution_count": null,
   "metadata": {},
   "outputs": [],
   "source": [
    "# <your code here>"
   ]
  },
  {
   "cell_type": "code",
   "execution_count": null,
   "metadata": {},
   "outputs": [],
   "source": [
    "# So your experiment involves resizing and rotating the pictures, but you still need to consult an expert,\n",
    "# about how much resizing and rotation would be the best. But time is short, so you decide to write the code\n",
    "# and you will just fill in the values, when you know more.\n",
    "\n",
    "# Write a function that takes three numbers. The first two representing the original dimensions of a picture.\n",
    "# The third one is a coefficient for resizing, with a default walue of 1.\n",
    "# Don't allow coefficients that are negative or bigger than 2.\n",
    "#(just set it to 0 if value is smaller than 0, or 2 if value is greater than 2)\n",
    "# Return the two dimension variables, each multiplied by the resizing coefficient."
   ]
  },
  {
   "cell_type": "code",
   "execution_count": null,
   "metadata": {},
   "outputs": [],
   "source": [
    "# <your code here>"
   ]
  },
  {
   "cell_type": "code",
   "execution_count": null,
   "metadata": {},
   "outputs": [],
   "source": [
    "# Wile you were working on this, you closed the terminal that you used for running the optimization script.\n",
    "# Your heart skips a beat. Did you really save the values? Or you have to rerun the whole thing?\n",
    "\n",
    "# Check the contents of the data/row folder with os.listdir!"
   ]
  },
  {
   "cell_type": "code",
   "execution_count": null,
   "metadata": {},
   "outputs": [],
   "source": [
    "# <your code here>"
   ]
  },
  {
   "cell_type": "code",
   "execution_count": null,
   "metadata": {},
   "outputs": [],
   "source": [
    "# OK, it looks like it is there. So now you can move on and write a function to calculate the rotation!\n",
    "\n",
    "# Write a function that takes the original rotation value,\n",
    "# and another number representing a new clockwise rotation in degrees.\n",
    "# Return the orientation of the picture after the new rotation.\n",
    "# (Add the default value and the new rotation degrees. After every 360 degrees a new rotations starts.\n",
    "# You need to return the orientation not the full \n",
    "# Orientation value can't exceed 360 degrees. hint: use modulo)"
   ]
  },
  {
   "cell_type": "code",
   "execution_count": null,
   "metadata": {},
   "outputs": [],
   "source": [
    "# <your code here>"
   ]
  },
  {
   "cell_type": "code",
   "execution_count": null,
   "metadata": {},
   "outputs": [],
   "source": [
    "# Now that you wrote the functinos for resizing and rotation, you decide to test the code you have with\n",
    "# random numbers. (Imaginde you also wrote code that actually does things to pictures,\n",
    "# based on these values, so you can check it.)\n",
    "\n",
    "# But in case you like what you get wile running with random paramteters, you decide to save the modified values\n",
    "# as well!\n",
    "\n",
    "# Open the animals.csv file, and iterate through it line by line.\n",
    "# Use the resizing and rotation functions you wrote with random numbers for the resizing and rotation coefficients.\n",
    "# For each picture, open a new file for writing, and write the new values in the following format:"
   ]
  },
  {
   "cell_type": "raw",
   "metadata": {},
   "source": [
    "filename: <filename here>\n",
    "size: <x dimension>, <y dimension>\n",
    "orientation: <orientation here>"
   ]
  },
  {
   "cell_type": "code",
   "execution_count": null,
   "metadata": {},
   "outputs": [],
   "source": [
    "# Save your output files to the data/processed folder.\n",
    "# You can use random.random() to generate a random float between 0.0 and 1.0. Manipulate that to get random\n",
    "# numbers that suit your needs!"
   ]
  },
  {
   "cell_type": "code",
   "execution_count": null,
   "metadata": {},
   "outputs": [],
   "source": [
    "import random\n",
    "# <your code here>"
   ]
  },
  {
   "cell_type": "code",
   "execution_count": null,
   "metadata": {},
   "outputs": [],
   "source": [
    "# Check the contents of the data/processed folder with os.listdir()"
   ]
  },
  {
   "cell_type": "code",
   "execution_count": null,
   "metadata": {},
   "outputs": [],
   "source": [
    "# <your code here>"
   ]
  }
 ],
 "metadata": {
  "kernelspec": {
   "display_name": "Python 3",
   "language": "python",
   "name": "python3"
  },
  "language_info": {
   "codemirror_mode": {
    "name": "ipython",
    "version": 3
   },
   "file_extension": ".py",
   "mimetype": "text/x-python",
   "name": "python",
   "nbconvert_exporter": "python",
   "pygments_lexer": "ipython3",
   "version": "3.7.1"
  }
 },
 "nbformat": 4,
 "nbformat_minor": 2
}
