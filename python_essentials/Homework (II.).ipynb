{
 "cells": [
  {
   "cell_type": "markdown",
   "metadata": {},
   "source": [
    "# Homework\n",
    "This notebook contains atomized tasks that are somewhat related. It starts slow and progresses to more complex tasks.  \n",
    "There might be some method calls that you have never seen before, and still ask you to use them.  \n",
    "If you know how to call a method, you will be fine! When in doubt, use the ? or stackowerflow!"
   ]
  },
  {
   "cell_type": "markdown",
   "metadata": {},
   "source": [
    "##### Warmup"
   ]
  },
  {
   "cell_type": "code",
   "execution_count": 4,
   "metadata": {},
   "outputs": [],
   "source": [
    "# here is a list\n",
    "lst = [1,5,3.1,5,8,'chair','horse',2,3,'plain',67,8.5,'penguin', [], 'beak', 'octopus']"
   ]
  },
  {
   "cell_type": "code",
   "execution_count": null,
   "metadata": {},
   "outputs": [],
   "source": [
    "# print out the length of this list in a full sentence!\n"
   ]
  },
  {
   "cell_type": "code",
   "execution_count": 7,
   "metadata": {},
   "outputs": [],
   "source": [
    "# find out the index of 'horse' with the .index list-method!\n"
   ]
  },
  {
   "cell_type": "code",
   "execution_count": null,
   "metadata": {},
   "outputs": [],
   "source": [
    "# now use slicing to take the portion of lst after 'horse' (not including 'horse'),\n",
    "# and assign it to a new variable called no_horse_lst!\n"
   ]
  },
  {
   "cell_type": "code",
   "execution_count": null,
   "metadata": {},
   "outputs": [],
   "source": [
    "# so far so good! now iterate through no_horse_lst, and print out the type of the values!\n"
   ]
  },
  {
   "cell_type": "code",
   "execution_count": null,
   "metadata": {},
   "outputs": [],
   "source": [
    "# great! now i give you some code:\n",
    "numbers = 0\n",
    "strings = 0\n",
    "# iterate through the original list (lst), and increase the value of numbers or strings by one,\n",
    "# depending on what they are.\n",
    "# there is an odd one out (between 'penguin' and 'beak'), when you encounter it, use countinue to skip.\n",
    "\n"
   ]
  },
  {
   "cell_type": "markdown",
   "metadata": {},
   "source": [
    "#### In the line"
   ]
  },
  {
   "cell_type": "code",
   "execution_count": null,
   "metadata": {},
   "outputs": [],
   "source": [
    "# define five distinct variables: an integer, a float, a string (let this one be a name), a boolean,\n",
    "# and an emtpy list called line.\n"
   ]
  },
  {
   "cell_type": "code",
   "execution_count": null,
   "metadata": {},
   "outputs": [],
   "source": [
    "# append the string to the line, and print the result! Now this person is waiting in this line.\n"
   ]
  },
  {
   "cell_type": "code",
   "execution_count": null,
   "metadata": {},
   "outputs": [],
   "source": [
    "# now add four more people to the line, without redefining it! (They will be waiting for the videostore to open.)\n",
    "\n",
    "# hint: you can concatenate, use the .append list method, or explore the .extend method.\n",
    "# when in doubt, use '?' for help!\n"
   ]
  },
  {
   "cell_type": "code",
   "execution_count": null,
   "metadata": {},
   "outputs": [],
   "source": [
    "# now you sould iterate through the line and print the names of the people waiting,\n",
    "# and next to that (in the same line) the number of letters their names are made of.\n",
    "\n",
    "# remember, print() can have multiple arguments!\n"
   ]
  },
  {
   "cell_type": "code",
   "execution_count": null,
   "metadata": {},
   "outputs": [],
   "source": [
    "# ok, suppose that all these people in the line want to borrow as many films from the store\n",
    "# as many letters they have in their names. the price of borrowing one film is the float you defined\n",
    "# at the beggining.\n",
    "# the task: based on all this information calculate the income that the videostore\n",
    "# could generate from these customers (if it was open)\n"
   ]
  },
  {
   "cell_type": "code",
   "execution_count": null,
   "metadata": {},
   "outputs": [],
   "source": [
    "# now the videostore opens, but one of the customers gave up, and went home.\n",
    "# remove the nth person from the line, where n is the integer you defined at the beginning.\n",
    "# if n is greater then five, divide n by 5 and use the reaminder (you can do this with modulo)\n",
    "\n",
    "# for removal you can use slicing, or the .remove list-method"
   ]
  },
  {
   "cell_type": "code",
   "execution_count": null,
   "metadata": {},
   "outputs": [],
   "source": [
    "# now calculate the actual income the videostore generates from the rest of the customers,\n",
    "# and correct it with taxes (26% VAT). print it out before and after taxation.\n"
   ]
  },
  {
   "cell_type": "code",
   "execution_count": null,
   "metadata": {},
   "outputs": [],
   "source": [
    "# now delete the boolean variable, because we did not use it. (use the del keyword and then the variable name)\n"
   ]
  },
  {
   "cell_type": "markdown",
   "metadata": {},
   "source": [
    "__From the lesson:__  \n",
    "\n",
    "Write a story (translate into if-elif-else statements) about a visit in a zoo using nested conditionals (use at least 5 statements). Note that elephants don't like rain, while polar bears prefer days when the sun is not out. On sunny days, he rather hides and you don't get to see him. The snakes can be seen all the times, but if you go in the afternoon, they'll probably sleep under a stone. Butterflies are trustworthy, they never hide. Anteaters are picky, they'll only approach you if you have some zoo food on you."
   ]
  },
  {
   "cell_type": "markdown",
   "metadata": {},
   "source": [
    "__Advanced tombola__  \n",
    "Bellow you can find the tombola example from the last lesson. Modify it to have 3 of all the prices, so there are 15 winners!  \n",
    "Define 5 different (3 element long) lists for all the prices, instead of one winners list, and test membership in the conditionals!  \n",
    "(You can define the new winner lists with or without overlap.)"
   ]
  },
  {
   "cell_type": "code",
   "execution_count": null,
   "metadata": {},
   "outputs": [],
   "source": [
    "# let's say you have a tombola ticket with a random number on it. (there are 65 players in the game)\n",
    "import random\n",
    "ticket = random.randint(0, 65)\n",
    "print(\"Your ticket is the #\" + str(ticket))\n",
    "\n",
    "winners = random.sample(range(1,65), 5)\n",
    "print(\"The winning numbers are\", winners)\n",
    "# let's see if you won or not!\n",
    "if ticket == winners[0]:\n",
    "    print(\"Congratulations! You won a bike!\")\n",
    "elif ticket == winners[1]:\n",
    "    print(\"Congratulations! You won a cat!\")\n",
    "elif ticket == winners[2]:\n",
    "    print(\"Congratulations! You won a castle!\")\n",
    "elif ticket == winners[3]:\n",
    "    print(\"Congratulations! You won a guitar pick!\")\n",
    "elif ticket ==winners[4]:\n",
    "    print(\"Congratulations! You won a cake\")\n",
    "else:\n",
    "    print(\"Sorry, maybe next time!\")\n"
   ]
  }
 ],
 "metadata": {
  "kernelspec": {
   "display_name": "Python 3",
   "language": "python",
   "name": "python3"
  },
  "language_info": {
   "codemirror_mode": {
    "name": "ipython",
    "version": 3
   },
   "file_extension": ".py",
   "mimetype": "text/x-python",
   "name": "python",
   "nbconvert_exporter": "python",
   "pygments_lexer": "ipython3",
   "version": "3.7.1"
  }
 },
 "nbformat": 4,
 "nbformat_minor": 2
}
