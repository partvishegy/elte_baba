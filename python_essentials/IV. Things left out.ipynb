{
 "cells": [
  {
   "cell_type": "markdown",
   "metadata": {},
   "source": [
    "# Errors and exceptions"
   ]
  },
  {
   "cell_type": "markdown",
   "metadata": {},
   "source": [
    "### Let's talk about errors!\n",
    "What is in an error message?\n",
    "- name of the error\n",
    "- optional error message with details\n",
    "- where it occured (function, line number)\n",
    "- some context\n",
    "- traceback? what called the function that crashed?"
   ]
  },
  {
   "cell_type": "code",
   "execution_count": 1,
   "metadata": {},
   "outputs": [
    {
     "ename": "ZeroDivisionError",
     "evalue": "division by zero",
     "output_type": "error",
     "traceback": [
      "\u001b[0;31m---------------------------------------------------------------------------\u001b[0m",
      "\u001b[0;31mZeroDivisionError\u001b[0m                         Traceback (most recent call last)",
      "\u001b[0;32m<ipython-input-1-9e1622b385b6>\u001b[0m in \u001b[0;36m<module>\u001b[0;34m\u001b[0m\n\u001b[0;32m----> 1\u001b[0;31m \u001b[0;36m1\u001b[0m\u001b[0;34m/\u001b[0m\u001b[0;36m0\u001b[0m\u001b[0;34m\u001b[0m\u001b[0;34m\u001b[0m\u001b[0m\n\u001b[0m",
      "\u001b[0;31mZeroDivisionError\u001b[0m: division by zero"
     ]
    }
   ],
   "source": [
    "# some erroneous peice of code\n",
    "1/0"
   ]
  },
  {
   "cell_type": "markdown",
   "metadata": {},
   "source": [
    "#### What is a traceback and how to read it?"
   ]
  },
  {
   "cell_type": "code",
   "execution_count": null,
   "metadata": {},
   "outputs": [],
   "source": [
    "def first():\n",
    "    # this will be problematic\n",
    "    with open('nonexistent_file.txt', 'r') as f:\n",
    "        no_content = f.read()\n",
    "\n",
    "\n",
    "def second():\n",
    "    # call the first function\n",
    "    first()\n",
    "\n",
    "\n",
    "def third():\n",
    "    # call the second function\n",
    "    second()\n",
    "\n",
    "    \n",
    "# we call the third to do its thing\n",
    "third()\n"
   ]
  },
  {
   "cell_type": "markdown",
   "metadata": {},
   "source": [
    "#### What other kinds of errors are there? And how are they related?\n",
    "https://docs.python.org/3/library/exceptions.html  \n",
    "See exception hierarchy at the bottom of the page!"
   ]
  },
  {
   "cell_type": "markdown",
   "metadata": {},
   "source": [
    "### What can we do about them?"
   ]
  },
  {
   "cell_type": "code",
   "execution_count": 4,
   "metadata": {},
   "outputs": [
    {
     "ename": "SyntaxError",
     "evalue": "invalid syntax (<ipython-input-4-c45cb28f31e8>, line 1)",
     "output_type": "error",
     "traceback": [
      "\u001b[0;36m  File \u001b[0;32m\"<ipython-input-4-c45cb28f31e8>\"\u001b[0;36m, line \u001b[0;32m1\u001b[0m\n\u001b[0;31m    Syntactic vs Semantic errors\u001b[0m\n\u001b[0m               ^\u001b[0m\n\u001b[0;31mSyntaxError\u001b[0m\u001b[0;31m:\u001b[0m invalid syntax\n"
     ]
    }
   ],
   "source": [
    "Syntactic vs Semantic errors"
   ]
  },
  {
   "cell_type": "markdown",
   "metadata": {},
   "source": [
    "- Syntax errors prevent your code from running\n",
    "- Semantic errors will let the code run, but crash it at some point, or the code may run without crashing, but not working as intended"
   ]
  },
  {
   "cell_type": "markdown",
   "metadata": {},
   "source": [
    "In most cases when you see an error messsage, you should read it and modify (debug) your code, so it does not crash. But sometimes you know that an error can occur in some cases and you just want to prepare for it, and handle it correctly.  \n",
    "When running experiments you (should) have a very controlled environment without many unexpected events, so you wont't need a whole lot of exception handling, but rather debugging before actually running the experiment with participants.  \n",
    "  \n",
    "But you can use python for a lot of other things. For example when wrangling data, you can run into lots of weird artifacts.  \n",
    "In general, when you suspect that an error can occure at some place in your code, you can catch it, and trigger some alternate actions instead, or just skip to the next step int he code ignoring the error (which is generally a bad idea - you should at least print or log something about the error).\n",
    "  \n",
    "During development you can decide for the occuring errors wether they need debugging or exception handling.\n",
    "\n",
    "  \n"
   ]
  },
  {
   "cell_type": "markdown",
   "metadata": {},
   "source": [
    "### Syntax for exception handling"
   ]
  },
  {
   "cell_type": "raw",
   "metadata": {},
   "source": [
    "try:\n",
    "   You do your operations here;\n",
    "   ......................\n",
    "except ExceptionI:\n",
    "   If there is ExceptionI, then execute this block.\n",
    "except ExceptionII:\n",
    "   If there is ExceptionII, then execute this block.\n",
    "   ......................\n",
    "else:\n",
    "   If there is no exception then execute this block."
   ]
  },
  {
   "cell_type": "markdown",
   "metadata": {},
   "source": [
    "In _most_ cases you will only need try and except. There is one more possible block, and a lot more about style and tactics to handle errors, but we are going to focus on the basics, so you can catch and handle errors if you need to do so."
   ]
  },
  {
   "cell_type": "markdown",
   "metadata": {},
   "source": [
    "##### Example\n",
    "You iterate on a list of dictonaries. The dicts are similar, but sometimes they miss a key. It is fine, you know that it is an optional key, but your code should handle it. You have two options:\n",
    "\n",
    "- LBYL: “look before you leap” - which is also fine. (using ifs to check first)\n",
    "- EAFP: \"easier to ask for forgiveness than permission\" (handle exception only when needed)"
   ]
  },
  {
   "cell_type": "code",
   "execution_count": 11,
   "metadata": {},
   "outputs": [],
   "source": [
    "data = [{'first_name': 'Joanne', 'last_name': 'Rowling', 'mid_name': 'Kathleen'},\n",
    "        {'first_name': 'Andrew', 'last_name': 'Ng'},\n",
    "        {'first_name': 'Johann', 'last_name': 'Bach','mid_name': 'Sebastian'}]"
   ]
  },
  {
   "cell_type": "code",
   "execution_count": null,
   "metadata": {},
   "outputs": [],
   "source": [
    "# if we run it like this we will get an error. sometimes. depending on the data.\n",
    "for d in data:\n",
    "    # do something with data\n",
    "    print(d['first_name'], d['mid_name'], d['last_name'])\n",
    "    "
   ]
  },
  {
   "cell_type": "code",
   "execution_count": null,
   "metadata": {},
   "outputs": [],
   "source": [
    "# LBYL (more intuitive // emphasis on exceptions)\n",
    "for d in data:\n",
    "    # do something with data\n",
    "    if 'mid_name' in d:\n",
    "        print(d['first_name'], d['mid_name'], d['last_name'])\n",
    "    else:\n",
    "        print(d['first_name'], d['last_name'])\n"
   ]
  },
  {
   "cell_type": "code",
   "execution_count": null,
   "metadata": {},
   "outputs": [],
   "source": [
    "# EAFP (more pyhtonic, easyer to read complicated cases // emphasis on normal behaviour)\n",
    "for d in data:\n",
    "    # do something with data\n",
    "    try:\n",
    "        print(d['first_name'], d['mid_name'], d['last_name'])\n",
    "    except KeyError:\n",
    "        print(d['first_name'], d['last_name'])\n"
   ]
  },
  {
   "cell_type": "markdown",
   "metadata": {},
   "source": [
    "Both are good solutions if they solve the problem, but there are a few things to look out for:  \n",
    "- if/else can get very hard to read if you can have multiple possible errors, while try/except has a nice structure to handle errors of different kinds and specificity.\n",
    "- you can get very general with exceptions and this can mask errors"
   ]
  },
  {
   "cell_type": "code",
   "execution_count": null,
   "metadata": {},
   "outputs": [],
   "source": [
    "# Exercise:\n",
    "# Go back to the traceback example, and modify the code to catch the FileNotFoundError. When caught, just print \n",
    "# \"Oh, i've been expecting this error to happen. Hah!\"\n",
    "\n",
    "# (Bear in mind that, if you have a line in your real code, that allways causes an error, remove or rewrite it.\n",
    "# Exception handling is for the errors that MIGHT happen. This exercise is for practicing syntax.)"
   ]
  },
  {
   "cell_type": "raw",
   "metadata": {},
   "source": [
    "If you dont now what to expect (yet), expect anything:  \n",
    "\"Exception\" is the most general exception you should use.  \n",
    "  ...  \n",
    "except Exception:  \n",
    "  ...  "
   ]
  },
  {
   "cell_type": "raw",
   "metadata": {},
   "source": [
    "When you use it, make sure, that you dont pass the exception silently, but give yourself some information about the error, so you can hadle it properly.  \n",
    "  \n",
    "You can get the message from the error by using:  \n",
    "  ...  \n",
    "except Exception as e:  \n",
    "    print(e)  \n",
    "  ..."
   ]
  },
  {
   "cell_type": "raw",
   "metadata": {},
   "source": [
    "or you can get the whole traceback like this:  \n",
    "\n",
    "import traceback  \n",
    "  ...  \n",
    "except Exception:  \n",
    "    tb = traceback.format_exc()  \n",
    "    print(tb)  \n",
    "  ...  "
   ]
  },
  {
   "cell_type": "markdown",
   "metadata": {},
   "source": [
    "You can use this in combination with other, more specific exceptions, so you can catch the ones you did not expect."
   ]
  },
  {
   "cell_type": "code",
   "execution_count": null,
   "metadata": {},
   "outputs": [],
   "source": [
    "# Exercise:\n",
    "# Now go back again to the traceback exampleinclude another except block that is more general!\n",
    "# If something is caught, print \"Oh, i've NOT been expecting this :(\""
   ]
  },
  {
   "cell_type": "code",
   "execution_count": null,
   "metadata": {},
   "outputs": [],
   "source": [
    "# Change the problematic part to a list index out of error to trigger the more general exception!"
   ]
  },
  {
   "cell_type": "code",
   "execution_count": null,
   "metadata": {},
   "outputs": [],
   "source": [
    "# Try printing the traceback when the error is caught!"
   ]
  }
 ],
 "metadata": {
  "kernelspec": {
   "display_name": "Python 3",
   "language": "python",
   "name": "python3"
  },
  "language_info": {
   "codemirror_mode": {
    "name": "ipython",
    "version": 3
   },
   "file_extension": ".py",
   "mimetype": "text/x-python",
   "name": "python",
   "nbconvert_exporter": "python",
   "pygments_lexer": "ipython3",
   "version": "3.6.7"
  }
 },
 "nbformat": 4,
 "nbformat_minor": 2
}
