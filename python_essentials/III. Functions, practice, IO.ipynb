{
 "cells": [
  {
   "cell_type": "markdown",
   "metadata": {},
   "source": [
    "# III. Functions, practice, I/O"
   ]
  },
  {
   "cell_type": "code",
   "execution_count": 1,
   "metadata": {},
   "outputs": [],
   "source": [
    "# Functions section starts at the end of the last lesson."
   ]
  },
  {
   "cell_type": "markdown",
   "metadata": {},
   "source": [
    "#### Function practice"
   ]
  },
  {
   "cell_type": "code",
   "execution_count": 10,
   "metadata": {},
   "outputs": [],
   "source": [
    "# Given an int count of a number of donuts, return a string\n",
    "# of the form 'Number of donuts: <count>', where <count> is the number\n",
    "# passed in. However, if the count is 10 or more, then use the word 'many'\n",
    "# instead of the actual count.\n",
    "# So donuts(5) returns 'Number of donuts: 5'\n",
    "# and donuts(23) returns 'Number of donuts: many'\n",
    "def donuts(count):\n",
    "  # +++your code here+++\n",
    "  return"
   ]
  },
  {
   "cell_type": "code",
   "execution_count": null,
   "metadata": {},
   "outputs": [],
   "source": [
    "# Given a string s, return a string\n",
    "# where all occurences of its first char have\n",
    "# been changed to '*', except do not change\n",
    "# the first char itself.\n",
    "# e.g. 'babble' yields 'ba**le'\n",
    "# Assume that the string is length 1 or more.\n",
    "# Hint: s.replace(stra, strb) returns a version of string s\n",
    "# where all instances of stra have been replaced by strb.\n",
    "def fix_start(s):\n",
    "  # +++your code here+++\n",
    "  return"
   ]
  },
  {
   "cell_type": "code",
   "execution_count": null,
   "metadata": {},
   "outputs": [],
   "source": [
    "# Spoonerism (a)\n",
    "# Given strings a and b, return a single string with a and b separated\n",
    "# by a space '<a> <b>', except swap the first chars of each string.\n",
    "# e.g.\n",
    "#   'mix', pod' -> 'pix mod'\n",
    "#   'dog', 'dinner' -> 'dog dinner'\n",
    "def spoonerism(a, b):\n",
    "  # +++your code here+++\n",
    "  return"
   ]
  },
  {
   "cell_type": "code",
   "execution_count": 11,
   "metadata": {},
   "outputs": [],
   "source": [
    "# Spoonerism (b)\n",
    "# modify the spoonerism function to have a keyword argument called 'swap'\n",
    "# representing the number of letters at the beggining of words to be swapped!\n",
    "# The default value should be 1, so without explicit setting of this argument,\n",
    "# the function should act as in part (a).\n",
    "# If any of the strings are too short, print: \"<word> is to short to be spooned.\"\n"
   ]
  },
  {
   "cell_type": "markdown",
   "metadata": {},
   "source": [
    "#### Input/output (i/o)\n",
    "Reading and writing files.  \n",
    "But first:"
   ]
  },
  {
   "cell_type": "code",
   "execution_count": 25,
   "metadata": {},
   "outputs": [],
   "source": [
    "from os import getcwd, listdir, path\n",
    "\n",
    "# where am i?\n",
    "\n",
    "# what files are here? and there?\n",
    "\n",
    "# current dir, parent dir, child dirs\n",
    "#absolute & relative paths (windows might be backwards)"
   ]
  },
  {
   "cell_type": "code",
   "execution_count": 18,
   "metadata": {},
   "outputs": [],
   "source": [
    "# reading text files\n",
    "\n",
    "f = open('test.txt', 'r')\n",
    "content = f.read()\n",
    "f.close()"
   ]
  },
  {
   "cell_type": "code",
   "execution_count": null,
   "metadata": {},
   "outputs": [],
   "source": [
    "# or read line by line\n",
    "f = open('test_data.txt', 'r')\n",
    "for l in f:\n",
    "    # do things with line (\\n)\n",
    "    # what if we have a tsv or csv?\n",
    "        # (quick and dirty: split and manual, OR pandas!)\n",
    "        \n",
    "# txt, tsv, csv are actually the \"same thing\".\n",
    "# we will look at pandas during/after psychopy section it is a great tool!"
   ]
  },
  {
   "cell_type": "code",
   "execution_count": 21,
   "metadata": {},
   "outputs": [],
   "source": [
    "# usually the best option is:\n",
    "with open('test.txt', 'r') as f:\n",
    "    content = f.read()\n",
    "    # no need to close! cleaner code.\n",
    "    # you can iterate within the with as well"
   ]
  },
  {
   "cell_type": "code",
   "execution_count": null,
   "metadata": {},
   "outputs": [],
   "source": [
    "# writing text files\n",
    "\n",
    "f = open('file.txt', 'w')\n",
    "for d in data:\n",
    "    l = ... # create valid line + \\n\n",
    "    f.write(l)\n",
    "f.close() # changes are only saved permanently upon close!"
   ]
  },
  {
   "cell_type": "code",
   "execution_count": 2,
   "metadata": {},
   "outputs": [],
   "source": [
    "# there is also 'a' to append, and 'r+' to read & write as well."
   ]
  },
  {
   "cell_type": "markdown",
   "metadata": {},
   "source": [
    "#### Let's try this out!\n"
   ]
  },
  {
   "cell_type": "code",
   "execution_count": null,
   "metadata": {},
   "outputs": [],
   "source": [
    "# open a file for writing, and write the following list elements to new lines\n",
    "write_me = ['John Cleese', 'Terry Gilliam' 'Graham Chapman', 'Eric Idle', 'Michael Palin', 'Terry Jones']\n"
   ]
  },
  {
   "cell_type": "code",
   "execution_count": null,
   "metadata": {},
   "outputs": [],
   "source": [
    "# now open the file for reading, and print each line"
   ]
  },
  {
   "cell_type": "code",
   "execution_count": null,
   "metadata": {},
   "outputs": [],
   "source": [
    "# write a function that takes in a string and counts how many times\n",
    "# does a given word appear in it!\n",
    "\n",
    "# open the file: alice.txt\n",
    "# Count the apprearances of the word Alice in the book, and print it!\n"
   ]
  },
  {
   "cell_type": "markdown",
   "metadata": {},
   "source": [
    "### A quick look at Dicts & sets\n",
    "\n",
    "__Dictionaries__ are a collection of key-value pairs.\n",
    "\n",
    "* imagine it as a lookup table / or actual dictionary\n",
    "* keys are unique\n",
    "* keys are typically strings or integers (can be tuples, too), values can be anything\n",
    "* important difference from lists and tuples: dictionaries are __unordered__\n",
    "    * you do not use indices to get values but the keys\n"
   ]
  },
  {
   "cell_type": "code",
   "execution_count": null,
   "metadata": {},
   "outputs": [],
   "source": [
    "d = {\"first_name\": \"John\", \"last_name\": \"Doe\"}\n",
    "\n",
    "d[\"first_name\"]  # get the value corresponding to the key \"first_name\""
   ]
  },
  {
   "cell_type": "code",
   "execution_count": null,
   "metadata": {},
   "outputs": [],
   "source": [
    "d[\"middle_name\"] = \"Thomas\"   # you can add more key-value pairs\n",
    "d"
   ]
  },
  {
   "cell_type": "code",
   "execution_count": null,
   "metadata": {},
   "outputs": [],
   "source": [
    "d[\"first_name\"] = \"Jonathan\"   # you can modify values assigned to existing keys, too\n",
    "d"
   ]
  },
  {
   "cell_type": "code",
   "execution_count": null,
   "metadata": {},
   "outputs": [],
   "source": [
    "del d[\"middle_name\"]          # this is how you delete a key-value pair\n",
    "d"
   ]
  },
  {
   "cell_type": "markdown",
   "metadata": {},
   "source": [
    "Again, let's use \"d.[TAB]\" to see what we can do with d! The most important are the followings."
   ]
  },
  {
   "cell_type": "code",
   "execution_count": null,
   "metadata": {},
   "outputs": [],
   "source": [
    "# You can check if a key is present in the dictionary\n",
    "print(\"surname\" in d)\n",
    "print(\"middle_name\" in d)"
   ]
  },
  {
   "cell_type": "markdown",
   "metadata": {},
   "source": [
    "Let's see an example!  \n",
    "Suppose you have a phonebook. It has names in it as keys and there is a phone number for each name.  \n",
    "A dictionary is great for storing such information. "
   ]
  },
  {
   "cell_type": "code",
   "execution_count": 36,
   "metadata": {},
   "outputs": [],
   "source": [
    "my_phonebook = {\"Mum\": \"+36707689351\",\n",
    "                \"NAV\": \"+3612509500\"}\n",
    "\n",
    "# let's add a few more phone numbers! Like this:\n",
    "my_phonebook['new_number'] = \"+3612833715\""
   ]
  },
  {
   "cell_type": "code",
   "execution_count": 9,
   "metadata": {},
   "outputs": [],
   "source": [
    "# let's see what is in it: try printig out the whole thing! (and check return value without print)"
   ]
  },
  {
   "cell_type": "code",
   "execution_count": 8,
   "metadata": {},
   "outputs": [],
   "source": [
    "# now get one specific element, use one that you just entered!"
   ]
  },
  {
   "cell_type": "code",
   "execution_count": null,
   "metadata": {},
   "outputs": [],
   "source": [
    "# If you try to get the value for a non-existent key, you get an error\n",
    "my_phonebook[\"Tom Denem\"]"
   ]
  },
  {
   "cell_type": "code",
   "execution_count": null,
   "metadata": {},
   "outputs": [],
   "source": [
    "# A better way to get the value is the \".get\" method: returns the value if\n",
    "# the key is present and returns a default you can specify otherwise.\n",
    "\n",
    "a = my_phonebook.get(\"Tom Denem\", False)\n",
    "print(a)\n",
    "\n",
    "a = my_phonebook.get(\"Dumbledore\", \"no such name in my phonebook\")\n",
    "print(a)"
   ]
  },
  {
   "cell_type": "code",
   "execution_count": 21,
   "metadata": {},
   "outputs": [],
   "source": [
    "# What happens if you iterate on a dictionary?\n",
    "# Try it! iterate on my_phonebook and print each value!"
   ]
  },
  {
   "cell_type": "code",
   "execution_count": null,
   "metadata": {},
   "outputs": [],
   "source": [
    "# the keys and values can be retrieved as list-like objects\n",
    "# very useful if you want to go through them\n",
    "\n",
    "# I want only the keys from this dict!\n",
    "a = my_phonebook.keys()\n",
    "print(a)\n",
    "print(type(a))\n",
    "\n",
    "# I want only the values from this dict!\n",
    "b = my_phonebook.values()\n",
    "print(b)\n",
    "\n",
    "# What's more, you can get the pairs, too. A list-like object of (key, value) tuples.\n",
    "# This is usually a more useful for to iterate on. \n",
    "c = my_phonebook.items()\n",
    "print(c)\n",
    "\n",
    "# if needed, all these can be converted to a list via list()\n",
    "print(list(c))\n",
    "type(list(c))"
   ]
  },
  {
   "cell_type": "code",
   "execution_count": null,
   "metadata": {},
   "outputs": [],
   "source": [
    "# now try iterating on the items with two \"index\" variables!"
   ]
  },
  {
   "cell_type": "code",
   "execution_count": null,
   "metadata": {},
   "outputs": [],
   "source": [
    "# What if someone has two phone numbers?\n",
    "# We know that the keys are unique... we should update the phonebook to handle lists!\n",
    "\n",
    "# Iterate over my_ponebook, and replace each phone number string with a list containing only that phone numner string!"
   ]
  },
  {
   "cell_type": "code",
   "execution_count": null,
   "metadata": {},
   "outputs": [],
   "source": [
    "# Now we can have multiple values for the same person, and we also have an intuitive way to store ppl without\n",
    "# phone numbers - if we need to do so for some reason."
   ]
  },
  {
   "cell_type": "code",
   "execution_count": null,
   "metadata": {},
   "outputs": [],
   "source": [
    "# What if we also want to store more data about the peaople we know? Like addresses, email addresses, age, etc?\n",
    "# We can have dicts in dicts. \n",
    "# Let's see a simple example:\n",
    "my_contacts_book = {\"Mum\": {\"phone\": \"+36707689351\",\n",
    "                            \"age\": 56,\n",
    "                            \"email\": \"my.mum@gmail.com\"}\n",
    "                   }\n",
    "\n",
    "# how can we acces values in such a complex structure?\n",
    "my_contacts_book['Mum'][\"phone\"]\n",
    "\n",
    "# This can get messy pretty quick, but it is also very useful (see JSON)."
   ]
  },
  {
   "cell_type": "markdown",
   "metadata": {},
   "source": [
    "__Sets__  \n",
    "Sets represent the mathematical notion of sets.  \n",
    "There are methods for all the basic set operations.  \n",
    "It is quick way to get unique elements.\n",
    "\n",
    "They are not ordered!  \n",
    "You can test membership, and iterate on them,  \n",
    "but can not use indices or slicing to get element."
   ]
  },
  {
   "cell_type": "code",
   "execution_count": null,
   "metadata": {},
   "outputs": [],
   "source": [
    "s = set([1, 1, 1, 2, 3])\n",
    "print(s)"
   ]
  },
  {
   "cell_type": "code",
   "execution_count": 8,
   "metadata": {},
   "outputs": [
    {
     "name": "stdout",
     "output_type": "stream",
     "text": [
      "{4, 5, 6}\n",
      "{3, 4, 5}\n"
     ]
    }
   ],
   "source": [
    "# two syntactic ways to create sets\n",
    "a = set([4, 5, 6])\n",
    "b = {3, 4, 4, 5}\n",
    "\n",
    "print(a)\n",
    "print(b)"
   ]
  },
  {
   "cell_type": "code",
   "execution_count": 9,
   "metadata": {},
   "outputs": [
    {
     "name": "stdout",
     "output_type": "stream",
     "text": [
      "{4, 5, 6, 7}\n",
      "{5, 6, 7, 91, 92, 93}\n"
     ]
    }
   ],
   "source": [
    "# Again, use a.[TAB] to explore what methods a set has!\n",
    "\n",
    "a.add(7)                    # add an element to the set\n",
    "print(a)\n",
    "\n",
    "a.update([91, 92, 93, 93, 93]) # add multiple elements in one step\n",
    "print(a)\n",
    "\n",
    "a.remove(4)                 # remove an element\n",
    "print(a)"
   ]
  },
  {
   "cell_type": "code",
   "execution_count": null,
   "metadata": {},
   "outputs": [],
   "source": [
    "b = set([7, 8, \"foo\"])\n",
    "\n",
    "print(a.issubset(b))               # check relations of two sets like subset, superset\n",
    "print(a.issuperset(b))\n",
    "\n",
    "print(a.union(b))                  # set operations: union, intersection, difference\n",
    "print(a.intersection(b))"
   ]
  },
  {
   "cell_type": "code",
   "execution_count": null,
   "metadata": {},
   "outputs": [],
   "source": [
    "#### Let's see what we can do now!\n",
    "\n",
    "# If we don't have time for this task, let's jump to the Practice part!\n",
    "# And we will do this at the beggining of the next session.\n",
    "\n",
    "# (a)\n",
    "# - write a function that takes a string counts the appearances of every word\n",
    "# and stores them in a dictionary {\"word\": <number_of_appearances>}\n",
    "# and returns the dictionary. test it on a looong string.\n",
    "# (lowercase, but no more cleaning)\n",
    "\n",
    "# (b)\n",
    "# write a function that takes a file path, reads the file\n",
    "# runs the previously written word counter function on the content\n",
    "# and returns the count dictionary.\n",
    "\n",
    "# run it on alice.txt, examine the output,\n",
    "# and make some notes about how it could be improved\n",
    "\n",
    "# (c)\n",
    "# write a function that takes a dictonary, and a string.\n",
    "# The function should iterate through the dictionary, and write each item in the specified file.\n",
    "# Write every key in a new line with the value next to it, separated by a tab ('\\t').\n",
    "\n",
    "# Run this function with the wordcount dictionary you got when running the function from part (b).\n",
    "# And call the output file alice_word_count.tsv\n",
    "\n",
    "\n",
    "# (d)\n",
    "# Write a function called unique_words() that takes a string and returns the set of unique words in it.\n",
    "# (Wihout dealing with special characters:  \"chair\" and \"chair.\" are distinct words.) \n",
    "\n",
    "# Write a function that takes two strings, get unique words from them, then\n",
    "# return the set of words, that appear in both strings.\n",
    "\n",
    "# Use the second function to find words that appear in both section I and section II. of alice.txt\n",
    "\n",
    "# (e)\n",
    "# How would you write a function that returns only the words, that are new to the second string argument?\n",
    "# If you are finished with the previous task, and waiting for the others, try to implement it!\n",
    "\n",
    "# What are the words used only in section I. throughout the book?"
   ]
  },
  {
   "cell_type": "markdown",
   "metadata": {},
   "source": [
    "#### Practice"
   ]
  },
  {
   "cell_type": "code",
   "execution_count": null,
   "metadata": {},
   "outputs": [],
   "source": [
    "# Given a list of strings, return the count of the number of\n",
    "# strings where the string length is 2 or more and the first\n",
    "# and last chars of the string are the same.\n",
    "# Try this on on the book!\n",
    "def match_ends(words):\n",
    "  # +++your code here+++\n",
    "  return"
   ]
  },
  {
   "cell_type": "code",
   "execution_count": null,
   "metadata": {},
   "outputs": [],
   "source": [
    "# Given a list of numbers, return a list where\n",
    "# all adjacent == elements have been reduced to a single element,\n",
    "# so [1, 2, 2, 3] returns [1, 2, 3]. You may create a new list or\n",
    "# modify the passed in list.\n",
    "def remove_adjacent(nums):\n",
    "  # +++your code here+++\n",
    "  return"
   ]
  }
 ],
 "metadata": {
  "kernelspec": {
   "display_name": "Python 3",
   "language": "python",
   "name": "python3"
  },
  "language_info": {
   "codemirror_mode": {
    "name": "ipython",
    "version": 3
   },
   "file_extension": ".py",
   "mimetype": "text/x-python",
   "name": "python",
   "nbconvert_exporter": "python",
   "pygments_lexer": "ipython3",
   "version": "3.6.7"
  }
 },
 "nbformat": 4,
 "nbformat_minor": 2
}
