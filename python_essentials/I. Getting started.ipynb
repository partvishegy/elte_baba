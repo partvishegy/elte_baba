{
 "cells": [
  {
   "cell_type": "markdown",
   "metadata": {},
   "source": [
    "## Getting started\n",
    "\n",
    "- introduction\n",
    "- jupyter notebooks\n",
    "- variables\n",
    "- datatypes\n",
    "    - math\n",
    "    - text\n",
    "- using the internet"
   ]
  },
  {
   "cell_type": "markdown",
   "metadata": {},
   "source": [
    "## How to use the notebooks"
   ]
  },
  {
   "cell_type": "markdown",
   "metadata": {},
   "source": [
    "You don't have to become a notebook power-user, as it is not compatible with psychopy. But they are practical when you try to explore a new dataset, communicate your findings or show code related concepts to someone.\n",
    "Notebooks can nicely integrate text ([markdown](https://github.com/adam-p/markdown-here/wiki/Markdown-Cheatsheet)), code, plots and pictures."
   ]
  },
  {
   "cell_type": "markdown",
   "metadata": {},
   "source": [
    "You can use the course-notebooks to make your own notes. This way you will have all the content we touched during the course, plus your own thoughts and questions in one place.\n",
    "\n",
    "- cell types\n",
    "- new cells\n",
    "- running a cell\n",
    "- ? for docstrings\n",
    "- hit h for hotkeys!\n",
    "- tabcompletion and omnicompletion"
   ]
  },
  {
   "cell_type": "markdown",
   "metadata": {},
   "source": [
    "## Variables"
   ]
  },
  {
   "cell_type": "markdown",
   "metadata": {},
   "source": [
    "*Variables store values.* A variable is just a named container so we can find what we are looking for.\n",
    "We can name our variables _anything we_ like, as long as the name does not start with a number, and does not contain special characters other than underscore.\n",
    "\n"
   ]
  },
  {
   "cell_type": "code",
   "execution_count": 11,
   "metadata": {},
   "outputs": [],
   "source": [
    "# assign a value to a variable with \"=\"\n",
    "anything = 2"
   ]
  },
  {
   "cell_type": "code",
   "execution_count": 12,
   "metadata": {
    "collapsed": true
   },
   "outputs": [
    {
     "name": "stdout",
     "output_type": "stream",
     "text": [
      "2\n"
     ]
    }
   ],
   "source": [
    "# now \"anything\" is referring to a place in the memory, holding the value 2\n",
    "print(anything)"
   ]
  },
  {
   "cell_type": "markdown",
   "metadata": {},
   "source": [
    "But it is not really practical to name your variables just anything. Try using names that reflect the purpose/content of the variable in the program, so later you (and others) can read your code and make sense of it. For example:"
   ]
  },
  {
   "cell_type": "code",
   "execution_count": null,
   "metadata": {},
   "outputs": [],
   "source": [
    "greeting = \"Hello Word!\"\n",
    "print(greeting)"
   ]
  },
  {
   "cell_type": "markdown",
   "metadata": {},
   "source": [
    "Comments also help code-readability. You can make comments using the '#' symbol.  \n",
    "Text after the '#' does not execute as python code, so you can use it at the beggining of lines and at the end of code lines."
   ]
  },
  {
   "cell_type": "markdown",
   "metadata": {},
   "source": [
    "**What is print( )?**  \n"
   ]
  },
  {
   "cell_type": "markdown",
   "metadata": {},
   "source": [
    "## Datatypes\n",
    "Python is a loosely typed language, which means that we don't write the type explicitly when defining variables, and python have to guess them. This makes coding a bit faster, but we still need to pay attention to our datatypes.  \n",
    "#### What can we store in variables?\n",
    "Simple datatypes\n",
    "- integers\n",
    "- floats\n",
    "- booleans  \n",
    "- strings\n",
    "\n",
    "Containers\n",
    "- lists\n",
    "- touples\n",
    "- sets\n",
    "- dictionaries"
   ]
  },
  {
   "cell_type": "markdown",
   "metadata": {},
   "source": [
    "### Simple datatypes\n",
    "##### There are two types for storing numbers. int integers and float for floating point numbers. We choose between them depending on the situation."
   ]
  },
  {
   "cell_type": "code",
   "execution_count": 4,
   "metadata": {},
   "outputs": [
    {
     "name": "stdout",
     "output_type": "stream",
     "text": [
      "2\n",
      "<class 'int'>\n"
     ]
    }
   ],
   "source": [
    "# integer\n",
    "x = 2           # the value 2 is assigned to variable x\n",
    "print(x)        # the value of the variable is accessible by using the variable name\n",
    "print(type(x))  # we can check its type by calling the function 'type'"
   ]
  },
  {
   "cell_type": "code",
   "execution_count": 2,
   "metadata": {},
   "outputs": [
    {
     "name": "stdout",
     "output_type": "stream",
     "text": [
      "1.234\n",
      "<class 'float'>\n"
     ]
    }
   ],
   "source": [
    "# floating point numbers\n",
    "y = 1.234\n",
    "print(y)\n",
    "print(type(y))"
   ]
  },
  {
   "cell_type": "code",
   "execution_count": 10,
   "metadata": {},
   "outputs": [
    {
     "name": "stdout",
     "output_type": "stream",
     "text": [
      "2.0\n",
      "1\n"
     ]
    }
   ],
   "source": [
    "# We can convert one type to the other (also called casting)\n",
    "print(float(x))\n",
    "print(int(y))"
   ]
  },
  {
   "cell_type": "markdown",
   "metadata": {},
   "source": [
    "With this three types we can do a lot of math. Let's stop for a second, and try out the basic operations!  \n",
    "\n",
    "- \\+ addition\n",
    "- \\- subtraction\n",
    "- / divison\n",
    "- // floor division\n",
    "- \\* multiplication\n",
    "- ^ exponentiation\n",
    "- % modulo (remainder)\n"
   ]
  },
  {
   "cell_type": "markdown",
   "metadata": {},
   "source": [
    "##### We also have a datatype for logical vaues called booleans, that can only take one of two values"
   ]
  },
  {
   "cell_type": "code",
   "execution_count": 26,
   "metadata": {},
   "outputs": [],
   "source": [
    "# booleans (logical values)\n",
    "a = True\n",
    "b = False"
   ]
  },
  {
   "cell_type": "markdown",
   "metadata": {},
   "source": [
    "##### Boolean algebra\n",
    "Boolean operations\n",
    "- && (and): only True if both values are True  \n",
    "- || (or) : only False if both values are False  \n",
    "- !  (not): reverses the value of boolean  \n",
    "\n",
    "Operations that return booleans but can be applied to other types*\n",
    "- == equal\n",
    "- < less-than\n",
    "- \\> greater-than\n",
    "- <= less-than-equal\n",
    "- \\>= greater-than-equal\n",
    "\n",
    "\\* _in some contexts_ 0, 0.0, '' (empty string), [] (empty list), {} (empty dictionary) can evaluate to False!"
   ]
  },
  {
   "cell_type": "markdown",
   "metadata": {},
   "source": [
    "#### Let's practice what we saw so far!\n"
   ]
  },
  {
   "cell_type": "code",
   "execution_count": 8,
   "metadata": {},
   "outputs": [],
   "source": [
    "# Define two variables, and add them. Store their sum in a third variable and print it!\n"
   ]
  },
  {
   "cell_type": "code",
   "execution_count": null,
   "metadata": {},
   "outputs": [],
   "source": [
    "# Suppose you want to buy some avocados. Define an integer to store the number of avocados you want to buy.\n",
    "# Then define a float to store the price of one avocado. Tse revealing variable names!\n",
    "# Store the product in a third variable and print it!\n"
   ]
  },
  {
   "cell_type": "code",
   "execution_count": 33,
   "metadata": {},
   "outputs": [],
   "source": [
    "# Take a look at the following expressions, and try to guess their value!\n",
    "# (This is just a taste. we will practice boolean algebra more thoroughly when we get to conditionals and control flow)\n",
    "\n",
    "# 3 < 71\n",
    "# 2+2 == 5\n",
    "# 4^2 != 16 or True\n",
    "# False and True\n",
    "# False or True and False\n",
    "# not False and True\n"
   ]
  },
  {
   "cell_type": "markdown",
   "metadata": {},
   "source": [
    "##### Text values also have their own datatype called strings, as they are strings of characters."
   ]
  },
  {
   "cell_type": "code",
   "execution_count": 26,
   "metadata": {},
   "outputs": [],
   "source": [
    "# strings\n",
    "first_name = \"Michael\"  # they work with double quotes\n",
    "last_name = 'Tomasello' # or with single quotes\n",
    "\n",
    "# or with triplequotes for multiline strings\n",
    "rhyme = \"\"\"\n",
    "Eeny, meeny, miny, moe,\n",
    "Catch a tiger by the toe.\n",
    "If he hollers, let it go,\n",
    "Eeny, meeny, miny, moe.\"\"\""
   ]
  },
  {
   "cell_type": "markdown",
   "metadata": {},
   "source": [
    "#### String methods and operations "
   ]
  },
  {
   "cell_type": "code",
   "execution_count": 35,
   "metadata": {
    "collapsed": true
   },
   "outputs": [
    {
     "data": {
      "text/plain": [
       "44"
      ]
     },
     "execution_count": 35,
     "metadata": {},
     "output_type": "execute_result"
    }
   ],
   "source": [
    "# get the lengt of a string\n",
    "len(\"megszentségteleníthetetlenségeskedéseitekért\")"
   ]
  },
  {
   "cell_type": "code",
   "execution_count": 27,
   "metadata": {},
   "outputs": [
    {
     "name": "stdout",
     "output_type": "stream",
     "text": [
      "Michael Tomasello\n",
      "<class 'str'>\n"
     ]
    }
   ],
   "source": [
    "# concatenation (addition of strings)\n",
    "full_name = first_name + ' ' + last_name\n",
    "print(full_name)\n",
    "print(type(full_name))"
   ]
  },
  {
   "cell_type": "code",
   "execution_count": 57,
   "metadata": {
    "collapsed": true
   },
   "outputs": [
    {
     "data": {
      "text/plain": [
       "'knuth'"
      ]
     },
     "execution_count": 57,
     "metadata": {},
     "output_type": "execute_result"
    }
   ],
   "source": [
    "last_name.lower()"
   ]
  },
  {
   "cell_type": "code",
   "execution_count": 19,
   "metadata": {
    "collapsed": true
   },
   "outputs": [
    {
     "data": {
      "text/plain": [
       "'ERVIN'"
      ]
     },
     "execution_count": 19,
     "metadata": {},
     "output_type": "execute_result"
    }
   ],
   "source": [
    "first_name.upper()"
   ]
  },
  {
   "cell_type": "code",
   "execution_count": 15,
   "metadata": {
    "collapsed": true
   },
   "outputs": [
    {
     "data": {
      "text/plain": [
       "2"
      ]
     },
     "execution_count": 15,
     "metadata": {},
     "output_type": "execute_result"
    }
   ],
   "source": [
    "last_name.count('l') # count the occurences of substrings\n"
   ]
  },
  {
   "cell_type": "code",
   "execution_count": 16,
   "metadata": {
    "collapsed": true
   },
   "outputs": [
    {
     "name": "stdout",
     "output_type": "stream",
     "text": [
      "['Eeny,', 'meeny,', 'miny,', 'moe,', 'Catch', 'a', 'tiger', 'by', 'the', 'toe.', 'If', 'he', 'hollers,', 'let', 'it', 'go,', 'Eeny,', 'meeny,', 'miny,', 'moe.']\n"
     ]
    }
   ],
   "source": [
    "split = rhyme.split() # try it with arguments!\n",
    "print(split)"
   ]
  },
  {
   "cell_type": "code",
   "execution_count": 17,
   "metadata": {
    "collapsed": true
   },
   "outputs": [
    {
     "name": "stdout",
     "output_type": "stream",
     "text": [
      "Eeny,\n",
      "meeny,\n",
      "miny,\n",
      "moe,\n",
      "Catch\n",
      "a\n",
      "tiger\n",
      "by\n",
      "the\n",
      "toe.\n",
      "If\n",
      "he\n",
      "hollers,\n",
      "let\n",
      "it\n",
      "go,\n",
      "Eeny,\n",
      "meeny,\n",
      "miny,\n",
      "moe.\n"
     ]
    }
   ],
   "source": [
    "joint = '\\n'.join(split)\n",
    "print(joint)"
   ]
  },
  {
   "cell_type": "code",
   "execution_count": 21,
   "metadata": {
    "collapsed": true
   },
   "outputs": [
    {
     "name": "stdout",
     "output_type": "stream",
     "text": [
      "\n",
      "oony, moony, miny, moo,\n",
      "catch a tigor by tho too.\n",
      "if ho hollors, lot it go,\n",
      "oony, moony, miny, moo.\n"
     ]
    }
   ],
   "source": [
    "rhymo = rhyme.lower().replace('e', 'o')\n",
    "print(rhymo)"
   ]
  },
  {
   "cell_type": "code",
   "execution_count": 28,
   "metadata": {
    "collapsed": true
   },
   "outputs": [
    {
     "data": {
      "text/plain": [
       "True"
      ]
     },
     "execution_count": 28,
     "metadata": {},
     "output_type": "execute_result"
    }
   ],
   "source": [
    "# test membership\n",
    "'tiger' in rhyme"
   ]
  },
  {
   "cell_type": "code",
   "execution_count": 31,
   "metadata": {
    "collapsed": true
   },
   "outputs": [
    {
     "data": {
      "text/plain": [
       "46"
      ]
     },
     "execution_count": 31,
     "metadata": {},
     "output_type": "execute_result"
    }
   ],
   "source": [
    "# find substring starting position\n",
    "rhyme.find('toe')"
   ]
  },
  {
   "cell_type": "code",
   "execution_count": 30,
   "metadata": {
    "collapsed": true
   },
   "outputs": [
    {
     "data": {
      "text/plain": [
       "'Catch a tiger by the '"
      ]
     },
     "execution_count": 30,
     "metadata": {},
     "output_type": "execute_result"
    }
   ],
   "source": [
    "# slicing\n",
    "rhyme[25:46] # characters from the second to the 26th "
   ]
  },
  {
   "cell_type": "markdown",
   "metadata": {},
   "source": [
    "#### What else is there?\n",
    "first_name.+TAB"
   ]
  },
  {
   "cell_type": "code",
   "execution_count": null,
   "metadata": {},
   "outputs": [],
   "source": [
    "first_name."
   ]
  },
  {
   "cell_type": "code",
   "execution_count": 30,
   "metadata": {},
   "outputs": [
    {
     "name": "stdout",
     "output_type": "stream",
     "text": [
      "I need to drink 2 espresso(s) to consume 191.000000mg of caffeine!\n"
     ]
    }
   ],
   "source": [
    "# formatting strings\n",
    "n_coffee = 2\n",
    "mg_caffeine = 95.5 * n_coffee\n",
    "print(\"I need to drink %i espresso(s) to consume %f mg of caffeine!\" % (n_coffee, mg_caffeine))"
   ]
  },
  {
   "cell_type": "markdown",
   "metadata": {},
   "source": [
    "##### How to display fewer decimals? Let's check on the internet!  \n",
    "You don't have to know everything. Looking up information is not cheating.\n",
    "- [stackowerflow](https://stackoverflow.com/questions/tagged/python-3.x)\n",
    "- [python documentation](https://docs.python.org/3.7/contents.html)  "
   ]
  },
  {
   "cell_type": "markdown",
   "metadata": {},
   "source": [
    "## Next lesson\n",
    "### Lists and the rest of the containers\n",
    "- slicing\n",
    "- looping\n",
    "\n",
    "### Conditionals and control flow\n",
    "- if, elif, else\n",
    "- braking the loops\n",
    "\n",
    "### Funcitons\n",
    "- defining our own functions\n",
    "- writing our first small programs\n"
   ]
  },
  {
   "cell_type": "markdown",
   "metadata": {},
   "source": [
    "## Homework"
   ]
  },
  {
   "cell_type": "markdown",
   "metadata": {},
   "source": [
    "1. If you have any questions to me during the week, write them down, or send me an email to venczeli.jozsef@gmail.com\n",
    "\n",
    "2. Practice boolean algebra with the following examples, by writing down your guess about their value, then running them\n",
    "    1. True and True\n",
    "    2. False and True\n",
    "    3. 1 == 1 and 2 == 1\n",
    "    4. \"test\" == \"test\"\n",
    "    5. 1 != 1.0\n",
    "    6. 1 == '1'\n",
    "    7. \"myname\" == \"MyName\"\n",
    "    8. 'one' != 1\n",
    "    9. 1 == 1 or 2 != 1\n",
    "    10. True and 1 == 1\n",
    "    11. False and 0 != 0\n",
    "    12. True or 1 == 1\n",
    "    13. 1 != 0 and 2 == 1\n",
    "    14. not (True and False)\n",
    "    15. not (not 'x' == 'x')\n",
    "    16. not (1 != 10 or 3 == 4)\n",
    "    17. 1 == 1 and not (\"one\" == 1 or 1 == 0)\n",
    "    18. \"egg\" == \"bacon\" and not (3 == 4 or 3 == 3)"
   ]
  },
  {
   "cell_type": "code",
   "execution_count": null,
   "metadata": {},
   "outputs": [],
   "source": []
  }
 ],
 "metadata": {
  "kernelspec": {
   "display_name": "Python 3",
   "language": "python",
   "name": "python3"
  },
  "language_info": {
   "codemirror_mode": {
    "name": "ipython",
    "version": 3
   },
   "file_extension": ".py",
   "mimetype": "text/x-python",
   "name": "python",
   "nbconvert_exporter": "python",
   "pygments_lexer": "ipython3",
   "version": "3.7.1"
  }
 },
 "nbformat": 4,
 "nbformat_minor": 2
}
