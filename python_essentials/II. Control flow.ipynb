{
 "cells": [
  {
   "cell_type": "markdown",
   "metadata": {},
   "source": [
    "# Control flow\n",
    "\n",
    "- conditionals (if, elif, else)\n",
    "- lists and cycles\n",
    "- functions (first iteration)"
   ]
  },
  {
   "cell_type": "markdown",
   "metadata": {},
   "source": [
    "## Contidionals\n",
    "\n"
   ]
  },
  {
   "cell_type": "code",
   "execution_count": null,
   "metadata": {},
   "outputs": [],
   "source": [
    "# if\n",
    "if True:\n",
    "    print(\"running the expressions in indented section!\")"
   ]
  },
  {
   "cell_type": "code",
   "execution_count": null,
   "metadata": {},
   "outputs": [],
   "source": [
    "# Guess what will be printed before you run the code! \n",
    "# Write your guess here:\n",
    "\n",
    "speed_limit = 90\n",
    "myspeed = 100\n",
    "policeman_has_bad_day = True\n",
    "\n",
    "if myspeed > speed_limit:\n",
    "    print('You are stopped for speeding')\n",
    "if not policeman_has_bad_day:\n",
    "    print('There is no fine this time')\n",
    "if myspeed <= speed_limit and policeman_has_bad_day:\n",
    "    print('You are stopped for speeding anyway')\n",
    "if myspeed > speed_limit and policeman_has_bad_day:\n",
    "    print(\"That's going to cost you a lot\")"
   ]
  },
  {
   "cell_type": "code",
   "execution_count": null,
   "metadata": {},
   "outputs": [],
   "source": [
    "# else (everything else)\n",
    "i_have_my_keys = True\n",
    "\n",
    "if i_have_my_keys:\n",
    "    print(\"i can enter my home.\")\n",
    "else:\n",
    "    print(\"im going to need a locksmith :(\")\n",
    "    "
   ]
  },
  {
   "cell_type": "code",
   "execution_count": null,
   "metadata": {},
   "outputs": [],
   "source": [
    "# elif (something else, something specific)\n",
    "\n",
    "# let's say you have a tombola ticket with a random number on it. (there are 65 players in the game)\n",
    "import random\n",
    "ticket = random.randint(0, 65)\n",
    "print(\"Your ticket is the #\" + str(ticket))\n",
    "\n",
    "winners = random.sample(range(1,65), 5)\n",
    "print(\"The winning numbers are\", winners)\n",
    "# let's see if you won or not!\n",
    "if ticket == winners[0]:\n",
    "    print(\"Congratulations! You won a bike!\")\n",
    "elif ticket == winners[1]:\n",
    "    print(\"Congratulations! You won a cat!\")\n",
    "elif ticket == winners[2]:\n",
    "    print(\"Congratulations! You won a castle!\")\n",
    "elif ticket == winners[3]:\n",
    "    print(\"Congratulations! You won a guitar pick!\")\n",
    "elif ticket ==winners[4]:\n",
    "    print(\"Congratulations! You won a cake\")\n",
    "else:\n",
    "    print(\"Sorry, maybe next time!\")\n",
    "\n",
    "# if you dont have an else statement, it is possible not to run any of the sections!\n",
    "# which makes sense sometimes."
   ]
  },
  {
   "cell_type": "markdown",
   "metadata": {},
   "source": [
    "__Exc.:__  \n",
    "Define 2 boolean variables which idicate whether it is raining and whether you have an umbrella.\n",
    "\n",
    "The following events are possible:\n",
    "* it's raining and i have an umbrella\n",
    "* it's raining and I don't have an umbrella on me.\n",
    "* it is not raining or I have an umbrella one me.\n",
    "* it's not raining, and don't have an umbrella\n",
    "\n",
    "Construct a conditional that determines if you will get soaked or not."
   ]
  },
  {
   "cell_type": "code",
   "execution_count": null,
   "metadata": {},
   "outputs": [],
   "source": [
    "# nested conditionals\n",
    "\n",
    "age = 18\n",
    "old_enough_to_get_driving_licence = age >= 17\n",
    "drunk = 'just had a beer'\n",
    "country = 'Germany'\n",
    "driving = True\n",
    "\n",
    "if not old_enough_to_get_driving_licence:\n",
    "    if driving:\n",
    "        print('You are not allowed to drive')\n",
    "elif drunk == 'very much':\n",
    "    print(\"You shouldn't drive at all\")\n",
    "else:\n",
    "    if drunk == 'not':\n",
    "        print('Have a nice ride!')\n",
    "    else:\n",
    "        if drunk == 'just had a beer' and country != 'Hungary':\n",
    "            print(\"That's still fine\")\n",
    "        else:\n",
    "            print('You will be fined')"
   ]
  },
  {
   "cell_type": "markdown",
   "metadata": {},
   "source": [
    "__Exc.:__  \n",
    "Write a story (translate into if-elif-else statements) about a visit in a zoo using nested conditionals (use at least 5 statements). Note that elephants don't like rain, while polar bears prefer days when the sun is not out. On sunny days, he rather hides and you don't get to see him. The snakes can be seen all the times, but if you go in the afternoon, they'll probably sleep under a stone. Butterflies are trustworthy, they never hide. Anteaters are picky, they'll only approach you if you have some zoo food on you.\n",
    "\n",
    "This might end up as homework."
   ]
  },
  {
   "cell_type": "markdown",
   "metadata": {},
   "source": [
    "## Lists\n",
    "When we have a sequence of elements, we store them in a list data structure.\n",
    "The elements can be anything, strings, booleans, numbers, lists, etc."
   ]
  },
  {
   "cell_type": "code",
   "execution_count": null,
   "metadata": {},
   "outputs": [],
   "source": [
    "colors = ['red',  'orange', 'yellow', 'green', 'blue', 'indgo', 'violet']\n",
    "various = [1, 'rhesus monkey', {}, False]\n",
    "\n",
    "# accessing elements by index\n",
    "# appending new elements"
   ]
  },
  {
   "cell_type": "code",
   "execution_count": null,
   "metadata": {},
   "outputs": [],
   "source": [
    "team = [\"Peter\", \"Susan\", \"Adam\", \"David\", \"Richard\", \"John\"]\n",
    "\n",
    "# Get the third member in alphabetical order!\n",
    "team.sort()\n",
    "print(team[2])\n",
    "\n",
    "# Get the last one in alphabetical order!\n",
    "print(team[-1])\n",
    "# Alternative solution:\n",
    "team.reverse()\n",
    "print(team[0])"
   ]
  },
  {
   "cell_type": "code",
   "execution_count": null,
   "metadata": {},
   "outputs": [],
   "source": [
    "# slicing\n",
    "print(team[:2])             # equivalent to 0:2: the 0 and 1 indices\n",
    "print(team[1:3])            # get the second and the third\n",
    "\n",
    "print(team[:-1])            # get everyting but the last one\n",
    "print(team[-2:])            # get the last two"
   ]
  },
  {
   "cell_type": "code",
   "execution_count": 15,
   "metadata": {},
   "outputs": [],
   "source": [
    "# concatenating lists (+, just like with strings)"
   ]
  },
  {
   "cell_type": "markdown",
   "metadata": {},
   "source": [
    "#### Looping\n",
    "__for__"
   ]
  },
  {
   "cell_type": "code",
   "execution_count": null,
   "metadata": {},
   "outputs": [],
   "source": [
    "# looping through lists\n",
    "for c in colors:\n",
    "    print(c)"
   ]
  },
  {
   "cell_type": "code",
   "execution_count": null,
   "metadata": {},
   "outputs": [],
   "source": [
    "# doing stuff with list elements!\n",
    "\n",
    "for i in range(10): # try with multiple arguments!\n",
    "    if i % 2 == 0:\n",
    "        print(i, 'is even')\n",
    "    else:\n",
    "        print(i, 'is odd!')"
   ]
  },
  {
   "cell_type": "code",
   "execution_count": null,
   "metadata": {},
   "outputs": [],
   "source": [
    "# list comprehensions!\n",
    "# (faster, usually more readable, more pythonic)\n",
    "\n",
    "# call any function to all the elements\n",
    "upper_colors = [c.upper() for c in colors]\n",
    "squared_nums = [i^2 for i in range(10)]\n",
    "\n",
    "# filter the elements\n",
    "long_colors = [c for c in colors if len(c) > 5]\n",
    "odd_nums = [i for i in range(11) if i % 2 == 1]\n",
    "\n",
    "# call any function to filtered elements!\n",
    "# Exc.: print out square of all even numbers from 75 to 100!"
   ]
  },
  {
   "cell_type": "markdown",
   "metadata": {},
   "source": [
    "__bool lists => any & all__\n",
    "it is a quick way to ask a question about a list  \n",
    "- is _any_ of the values ... ?\n",
    "- is _all_ of the values ... ?"
   ]
  },
  {
   "cell_type": "code",
   "execution_count": null,
   "metadata": {},
   "outputs": [],
   "source": [
    "print('any:', any([False, False, False, False, False, True]))\n",
    "print('all:', all([True, True, True, True, True, False]))"
   ]
  },
  {
   "cell_type": "code",
   "execution_count": null,
   "metadata": {},
   "outputs": [],
   "source": [
    "# Exc.:\n",
    "# a) write some code to find out if there is an element bigger then 32 in the list numbers!\n",
    "#    use any tools we covered so far!\n",
    "\n",
    "numbers = [14, 14, 2, 17, 2, 16, 24, 19, 10, 22, 4, 20, 22, 15, 15, 14, 19, 19,\n",
    " 14, 9, 10, 4, 7, 26, 4, 7, 13, 11, 12, 26, 26, 21, 3, 19, 11, 0, 30, 3, 26, 25,\n",
    " 17, 19, 19, 6, 29, 27, 24, 23, 8, 2, 28, 28, 9, 17, 8, 14, 25, 8, 29, 3, 29, 15,\n",
    " 16, 12, 22, 15, 15, 31, 2, 27, 0, 23, 10, 26, 31, 24, 1, 17, 15, 18, 22, 1, 2, 9,\n",
    " 29, 11, 23, 5, 18, 29, 29, 12, 26, 1, 27, 31, 9, 23, 8, 2, 28, 28, 9, 1, 5, 6, 7]\n",
    "\n",
    "# can you think of alternative solutions?\n",
    "\n",
    "\n",
    "# b) how many times does the number 23 occure in the list?\n",
    "#    alternative solutions?\n",
    "\n"
   ]
  },
  {
   "cell_type": "markdown",
   "metadata": {},
   "source": [
    "__while__  \n",
    "Define a variable that stores the maximum number of pencakes you can eat."
   ]
  },
  {
   "cell_type": "code",
   "execution_count": null,
   "metadata": {},
   "outputs": [],
   "source": [
    "max_pencakes = "
   ]
  },
  {
   "cell_type": "code",
   "execution_count": null,
   "metadata": {},
   "outputs": [],
   "source": [
    "pencake_index = 0  # shows how many you have eaten\n",
    "\n",
    "while pencake_index < max_pencakes:\n",
    "    print(\"oh look, a pencake!\")  # what kind of pencake?\n",
    "    print(\"I'm eating my %i. pencake!\" % (pencake_index+1))\n",
    "    pencake_index += 1 # what the heck is this expression?\n",
    "print(\"wow, im full.\")"
   ]
  },
  {
   "cell_type": "code",
   "execution_count": null,
   "metadata": {},
   "outputs": [],
   "source": [
    "# what if i forget the increment?\n",
    "\n",
    "# Exc.:\n",
    "# let's extend this example with different types of fillings. (jam, cocoa, túró, moldy cheese)\n",
    "# let the program choose a filling randomly, print it to the console,\n",
    "# and only increase the pencake_index if it is not moldy cheese!\n",
    "# when it IS moldy cheese, use continue to pass on it!"
   ]
  },
  {
   "cell_type": "markdown",
   "metadata": {},
   "source": [
    "__break__   \n",
    "You kind of remember an important detail from a paper, but you can't recall where it was exactly. You are quite bored with this one allready, so instead you start procrastinating by writing a program that models this situation:"
   ]
  },
  {
   "cell_type": "code",
   "execution_count": null,
   "metadata": {},
   "outputs": [],
   "source": [
    "import random\n",
    "actual_paragraph = random.randint(1, 34)\n",
    "\n",
    "for paragraph in range(34):\n",
    "    print(\"looking for that line where they said ...\")\n",
    "    if paragraph != actual_paragraph:\n",
    "      print(\"heck, it is not here\")\n",
    "    else:\n",
    "      print(\"jumping around in the room in extasy\")\n",
    "      break"
   ]
  },
  {
   "cell_type": "markdown",
   "metadata": {},
   "source": [
    "# Functions\n",
    "\n",
    "Functions are separated code blocks that you can run with arguments.  \n",
    "We saw a few of them, now let's see, how to define new ones!\n",
    "\n",
    "```\n",
    "def name_of_function(arguments):\n",
    "    \"\"\"\n",
    "    docstring\n",
    "    \"\"\"\n",
    "    code block\n",
    "    return something\n",
    "```\n",
    "(Arguments are optional, as well as return statements.)"
   ]
  },
  {
   "cell_type": "code",
   "execution_count": null,
   "metadata": {},
   "outputs": [],
   "source": [
    "def greeting(name):\n",
    "    \"\"\"\n",
    "    Greet someone with the name \"name\"\n",
    "    \"\"\"\n",
    "    print(\"Hello {}, how are you today?\".format(name))\n",
    "    \n",
    "# this function has one argument called name\n",
    "# it does not return anything"
   ]
  },
  {
   "cell_type": "code",
   "execution_count": null,
   "metadata": {},
   "outputs": [],
   "source": [
    "greeting(\"class\")"
   ]
  },
  {
   "cell_type": "markdown",
   "metadata": {},
   "source": [
    "__arguments?!__  \n",
    "Arguments are variables from outside the function that have some part in the processes inside.  \n",
    "You can specify the function's arguments upon definintion.  \n",
    "Naming conventions are consistent with other variables.  \n",
    "__Functions may have no, several or even a variable number of arguments.__\n"
   ]
  },
  {
   "cell_type": "code",
   "execution_count": 1,
   "metadata": {},
   "outputs": [],
   "source": [
    "# Exc.: Write a new function that takes a list of names as argument,\n",
    "# and greets everyone on the list by calling the greeting function! \n",
    "\n"
   ]
  },
  {
   "cell_type": "code",
   "execution_count": null,
   "metadata": {},
   "outputs": [],
   "source": [
    "# this function has two arguments, a return value, and a docstring!\n",
    "# what an improvement!\n",
    "\n",
    "def overcomplicated_addition(first_arg, second_arg):\n",
    "    \"\"\" This funciton takes two numbers and adds them.\n",
    "    Only to demonstrate function syntax!\n",
    "    this is a docstring, by the way.\n",
    "    \"\"\"\n",
    "    out = first_arg + second_arg\n",
    "    return out\n"
   ]
  },
  {
   "cell_type": "code",
   "execution_count": null,
   "metadata": {},
   "outputs": [],
   "source": [
    "overcomplicated_addition(10, 21)"
   ]
  },
  {
   "cell_type": "code",
   "execution_count": null,
   "metadata": {},
   "outputs": [],
   "source": [
    "# Functions may have arbitrary number of return statements, even zero (as you have seen at greeting().)  \n",
    "# Execution is stopped at the first return statement.  \n",
    "# Here is an example:\n",
    "\n",
    "def is_even(num):\n",
    "    \"\"\"\n",
    "    Check if a number is even or odd.\n",
    "    \"\"\"\n",
    "    if num % 2 == 0:\n",
    "        return True\n",
    "    else:\n",
    "        return False\n",
    "    \n",
    "print(is_even(2))\n",
    "print(is_even(3))"
   ]
  },
  {
   "cell_type": "code",
   "execution_count": 3,
   "metadata": {},
   "outputs": [],
   "source": [
    "# Exc.:\n",
    "# write a function that takes two lists and returns their common elements as a list\n",
    "# use iteration and membership testing. (we will use sets for such tasks later)"
   ]
  },
  {
   "cell_type": "markdown",
   "metadata": {},
   "source": [
    "#### Functions have their own namespaces\n",
    "You can define new variables inside functions but they are only accessible inside the function.  \n",
    "These variables are lost after the funciton finished running. Anything you want to use outside the function, you will have to return!"
   ]
  },
  {
   "cell_type": "code",
   "execution_count": null,
   "metadata": {},
   "outputs": [],
   "source": [
    "def foo(a, y):\n",
    "    # a and y exist here, are passed as arguments\n",
    "    print(a)\n",
    "    print(y)\n",
    "    b = a + 1\n",
    "    print(b)\n",
    "\n",
    "foo(2, 3)\n",
    "\n",
    "# after the execution is done, you can't access b any more - you get an error\n",
    "print(b)"
   ]
  },
  {
   "cell_type": "markdown",
   "metadata": {},
   "source": [
    "#### Keyword arguments\n",
    "A function may have special types of arguments called keyword arguments. The arguments you've seen so far are called positional arguments.\n",
    "\n",
    "Positional arguments are determined by their positions: first, second, third...\n",
    "Keyword arguments are named, you can pass values by the f(arg_name=value) syntax."
   ]
  },
  {
   "cell_type": "code",
   "execution_count": null,
   "metadata": {},
   "outputs": [],
   "source": [
    "# write a version of range with named arguments!\n",
    "\n",
    "def kw_range(from_num=0, to_num=0):\n",
    "    return list(range(from_num, to_num))\n",
    "\n",
    "print(kw_range(from_num=3, to_num=6))\n",
    "\n"
   ]
  },
  {
   "cell_type": "code",
   "execution_count": null,
   "metadata": {},
   "outputs": [],
   "source": [
    "# order does not matter\n",
    "print(kw_range(to_num=6, from_num=3))\n",
    "\n",
    "\n",
    "# the function definition involves default values for the named parameters\n",
    "print(kw_range(to_num=5))\n",
    "print(kw_range(from_num=-2))\n",
    "print(kw_range())"
   ]
  },
  {
   "cell_type": "markdown",
   "metadata": {},
   "source": [
    "Keyword arguments are useful if there are many parameters whose order is hard to remember. The default values are also useful: many times you use function with inputs that are largely unchanged. Then using the usual value as default saves typing."
   ]
  },
  {
   "cell_type": "markdown",
   "metadata": {},
   "source": [
    "# Next lesson\n",
    "- rest of the containers\n",
    "- handling files! (i/o)\n",
    "- practice: combining it all\n",
    "- questions unansvered"
   ]
  },
  {
   "cell_type": "markdown",
   "metadata": {},
   "source": [
    "# Homework\n",
    "\n",
    "Lots of functions to write!\n",
    "\n",
    "Comes in email / will be uploaded on [git](https://github.com/partvishegy/elte_baba), with tasks depending on how far we can get in this lesson."
   ]
  }
 ],
 "metadata": {
  "kernelspec": {
   "display_name": "Python 3",
   "language": "python",
   "name": "python3"
  },
  "language_info": {
   "codemirror_mode": {
    "name": "ipython",
    "version": 3
   },
   "file_extension": ".py",
   "mimetype": "text/x-python",
   "name": "python",
   "nbconvert_exporter": "python",
   "pygments_lexer": "ipython3",
   "version": "3.7.1"
  }
 },
 "nbformat": 4,
 "nbformat_minor": 2
}
