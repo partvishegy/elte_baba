{
 "cells": [
  {
   "cell_type": "markdown",
   "metadata": {},
   "source": [
    "# Homework III."
   ]
  },
  {
   "cell_type": "markdown",
   "metadata": {},
   "source": [
    "#####  Reminder\n",
    "This is not an excercise. Just read it, and make sure you understand."
   ]
  },
  {
   "cell_type": "code",
   "execution_count": null,
   "metadata": {},
   "outputs": [],
   "source": [
    "# this is a basic assignment\n",
    "variable = \"value\"\n",
    "\n",
    "# if you have a function \n",
    "def function():\n",
    "    \"\"\"\n",
    "    do absolutely nothing just return\n",
    "    the string: 'value'.\n",
    "    \"\"\"\n",
    "    return \"value\"\n",
    "\n",
    "# and you run it, it will evaluate;\n",
    "function()\n",
    "\n",
    "#  returning whatever is after the return statement in its definition."
   ]
  },
  {
   "cell_type": "code",
   "execution_count": null,
   "metadata": {},
   "outputs": [],
   "source": [
    "# imagine that as after the code runs in it, the expression \"function()\"\n",
    "# turns into its return value.\n",
    "\n",
    "# so when you write:\n",
    "variable2 = function() # and run it\n",
    "\n",
    "# variable2 will hold the 'value' string."
   ]
  },
  {
   "cell_type": "code",
   "execution_count": null,
   "metadata": {},
   "outputs": [],
   "source": [
    "# what if we don't assign the output of a function to a variable?\n",
    "\n",
    "# 1.) if we just call it in itself, like this\n",
    "\n",
    "function()\n",
    "\n",
    "# we will loose the return value! \n",
    "# (although jupyter shows it to us, but we can not do anything with it.)\n",
    "# the value is returned but unassigned.\n",
    "\n",
    "# 2.) we can also pass the returned value to another function:\n",
    "def other_function(argument):\n",
    "    \"\"\" take one string argument\n",
    "    return it twice.\"\"\"\n",
    "    return argument*2\n",
    "\n",
    "# now take function(), pass its output to other_function(),\n",
    "# and pass the output of other_function() to the print() function!\n",
    "\n",
    "print(other_function(function())) # version 1\n",
    "\n",
    "# here the return value of function() is the argument of other_function.\n",
    "# the return value of other_function is the argument of the print() function.\n",
    "\n",
    "# we could do the same in multiple lines, assigning the function outputs to variables\n",
    "# and then feeding those into the next function, like this:\n",
    "\n",
    "# version 2\n",
    "var1 = function()\n",
    "var2 = other_function(var1)\n",
    "print(var2)\n",
    "    "
   ]
  },
  {
   "cell_type": "code",
   "execution_count": null,
   "metadata": {},
   "outputs": [],
   "source": [
    "# You can see, that the two ouptuts are the same.\n",
    "# Because the two pieces of code do exactly the same thing.\n",
    "\n",
    "# The difference is that the first version is more compact, but after passing on\n",
    "# the outpul values, we have no way to use the interim values.\n",
    "# While in the second version we can reuse var1 and var2 as we like.\n",
    "\n",
    "# but the return value of function() is actually there, evaluated, in full glory,\n",
    "# just to be passed on, even when we don't store it in a variable.\n",
    "# we only loose it because there is no handle (varable name) for it be called by.\n",
    "\n",
    "# please make sure you understand this before you read on!"
   ]
  },
  {
   "cell_type": "code",
   "execution_count": null,
   "metadata": {},
   "outputs": [],
   "source": [
    "# One more level of complexity:\n",
    "# because the return value of function() is a string,\n",
    "# you can call all kinds of string methods on it, before passing it on.\n",
    "\n",
    "# so for example:  you can just write .upper() after function(), and it will\n",
    "# uppercase its return value.\n",
    "\n",
    "# let's do exactly that!\n",
    "print(function().upper())\n",
    "\n",
    "# again, just imagine, that the function call, turns into its return value."
   ]
  },
  {
   "cell_type": "code",
   "execution_count": null,
   "metadata": {},
   "outputs": [],
   "source": [
    "# Exercise:\n",
    "# go back to the cell where version 1 and 2 are written, and call the .upper() method\n",
    "# on function() or other_function()\n",
    "# try it with version 1 and 2 separately, observe what happens!\n",
    "# write a few words about what you did, and what happened."
   ]
  },
  {
   "cell_type": "markdown",
   "metadata": {},
   "source": [
    "#### Warmup\n"
   ]
  },
  {
   "cell_type": "markdown",
   "metadata": {},
   "source": [
    "In the following few exerciese you will need to express a one line expression in multiple lines. The point of this excercise is to practice using and deciphering more complex expressions.  \n",
    "Here is one example:"
   ]
  },
  {
   "cell_type": "code",
   "execution_count": null,
   "metadata": {},
   "outputs": [],
   "source": [
    "# this looks like one complicated expression\n",
    "print(\"dawg\".replace('aw', 'o').capitalize())"
   ]
  },
  {
   "cell_type": "code",
   "execution_count": null,
   "metadata": {},
   "outputs": [],
   "source": [
    "# lets make it more explicit\n",
    "base_string = \"dawg\"\n",
    "formal_str = base_string.replace('aw', 'o')\n",
    "capital_formal = formal_str.capitalize()\n",
    "print(capital_formal)"
   ]
  },
  {
   "cell_type": "code",
   "execution_count": null,
   "metadata": {},
   "outputs": [],
   "source": [
    "# Explanation:\n",
    "# We have the \"dawg\" string, that we want to turn into \"Dog\".\n",
    "# So first we take our initial string, and store it in a variable base_string.\n",
    "# Next we replace the slangish \"aw\" substring with \"o\" by calling the .replace \n",
    "# string method, and store the new more formal version in the formal_string variable.\n",
    "# Then as a final touch we capitalize it.\n",
    "\n",
    "# While in the complex line we called .replace right on the \"dawg\" string, and \n",
    "# on the return value of this method call, we called another method (.capitalize)\n",
    "# to capitalize it."
   ]
  },
  {
   "cell_type": "markdown",
   "metadata": {},
   "source": [
    "__Tradeoff__: As you see, in the explicit version, it is easyer to follow what is happening line by line, but the overall code is longer, which leads to more typing, more reading and there are more variables to keep in mind.\n"
   ]
  },
  {
   "cell_type": "markdown",
   "metadata": {},
   "source": [
    "Now it is your turn! Read the complex lines, and translate them into multiple lines.  \n",
    "Then write a few words about what happens in each case.  \n",
    "\n",
    "When stuck, just try to run parts separately, and see what happens. Also, read the documentations whenever you feel like it. It's just a ? away!   \n",
    "\n",
    "(Remember you can open extra cells by hitting the + button on the toolbar, or just by pushing 'Esc' and then 'b'.)"
   ]
  },
  {
   "cell_type": "code",
   "execution_count": null,
   "metadata": {},
   "outputs": [],
   "source": [
    "# complex line\n",
    "\"**(=/%!=*T(/)(=*file_nameNOISEpy\".replace('NOISE', '.')[16:]"
   ]
  },
  {
   "cell_type": "code",
   "execution_count": null,
   "metadata": {},
   "outputs": [],
   "source": [
    "# express it in multiple lines\n"
   ]
  },
  {
   "cell_type": "code",
   "execution_count": null,
   "metadata": {},
   "outputs": [],
   "source": [
    "# write down in words what happened:\n"
   ]
  },
  {
   "cell_type": "code",
   "execution_count": null,
   "metadata": {},
   "outputs": [],
   "source": [
    "# complex line (2)\n",
    "max(['word', 'string', 'not number', 34, 12, 45, 0][-4:])"
   ]
  },
  {
   "cell_type": "code",
   "execution_count": null,
   "metadata": {},
   "outputs": [],
   "source": [
    "# express it in multiple lines\n"
   ]
  },
  {
   "cell_type": "code",
   "execution_count": null,
   "metadata": {},
   "outputs": [],
   "source": [
    "# write down in words what happened:\n"
   ]
  },
  {
   "cell_type": "code",
   "execution_count": null,
   "metadata": {},
   "outputs": [],
   "source": [
    "# complex line (3)\n",
    "'  '.join(list(\"not spacious\"[4:]))\n",
    "\n",
    "\n",
    "# WARNING: this one is tricky!\n",
    "# join is a string method called on the string you want to join list elements by.\n",
    "# here it is two spaces! and it takes a list as an argument. the things you want to join.\n",
    "\n",
    "# list() is a function for converting list-like variables to actual lists."
   ]
  },
  {
   "cell_type": "code",
   "execution_count": null,
   "metadata": {},
   "outputs": [],
   "source": [
    "# express it in multiple lines\n"
   ]
  },
  {
   "cell_type": "code",
   "execution_count": null,
   "metadata": {},
   "outputs": [],
   "source": [
    "# write down in words what happened:\n"
   ]
  },
  {
   "cell_type": "code",
   "execution_count": null,
   "metadata": {},
   "outputs": [],
   "source": [
    "# complex line (4)\n",
    "# this one is optional! nobody writes lines like this.\n",
    "base = \"This;;is;;a_sontonco!\"\n",
    "' '.join([base.split('_')[0].replace(';;', ' '), base.split('_')[1].replace('o', 'e')])"
   ]
  },
  {
   "cell_type": "code",
   "execution_count": null,
   "metadata": {},
   "outputs": [],
   "source": [
    "# express it in multiple lines\n"
   ]
  },
  {
   "cell_type": "code",
   "execution_count": null,
   "metadata": {},
   "outputs": [],
   "source": [
    "# write down in words what happened:\n"
   ]
  },
  {
   "cell_type": "markdown",
   "metadata": {},
   "source": [
    "#### Functions"
   ]
  },
  {
   "cell_type": "markdown",
   "metadata": {},
   "source": [
    "Some of theese excerciese appeared in the lesson notebook."
   ]
  },
  {
   "cell_type": "code",
   "execution_count": null,
   "metadata": {},
   "outputs": [],
   "source": [
    "# Given a string s, return a string made of the first 2\n",
    "# and the last 2 chars of the original string,\n",
    "# so 'spring' yields 'spng'. However, if the string length\n",
    "# is less than 2, return instead the empty string.\n",
    "def both_ends(s):\n",
    "    # +++your code here+++\n",
    "    return"
   ]
  },
  {
   "cell_type": "code",
   "execution_count": null,
   "metadata": {},
   "outputs": [],
   "source": [
    "# Given a string, if its length is at least 3,\n",
    "# add 'ing' to its end.\n",
    "# Unless it already ends in 'ing', in which case\n",
    "# add 'ly' instead.\n",
    "# If the string length is less than 3, leave it unchanged.\n",
    "# Return the resulting string.\n",
    "def verbing(s):\n",
    "    # +++your code here+++\n",
    "    return"
   ]
  },
  {
   "cell_type": "code",
   "execution_count": null,
   "metadata": {},
   "outputs": [],
   "source": [
    "# Spoonerism (a)\n",
    "# Given strings a and b, return a single string with a and b separated\n",
    "# by a space '<a> <b>', except swap the first chars of each string.\n",
    "# e.g.\n",
    "#   'mix', pod' -> 'pix mod'\n",
    "#   'dog', 'dinner' -> 'dog dinner'\n",
    "def spoonerism(a, b):\n",
    "    # +++your code here+++\n",
    "    return"
   ]
  },
  {
   "cell_type": "code",
   "execution_count": null,
   "metadata": {},
   "outputs": [],
   "source": [
    "# Spoonerism (b)\n",
    "# modify the spoonerism function to have a keyword argument called 'swap'\n",
    "# representing the number of letters at the beggining of words to be swapped!\n",
    "# The default value should be 1, so without explicit setting of this argument,\n",
    "# the function should act as in part (a).\n",
    "# If any of the strings are too short, print: \"<word> is to short to be spooned.\"\n"
   ]
  },
  {
   "cell_type": "code",
   "execution_count": null,
   "metadata": {},
   "outputs": [],
   "source": [
    "# Given a list of numbers, return a list where\n",
    "# all adjacent == elements have been reduced to a single element,\n",
    "# so [1, 2, 2, 3] returns [1, 2, 3]. You may create a new list or\n",
    "# modify the passed in list.\n",
    "def remove_adjacent(nums):\n",
    "    # +++your code here+++\n",
    "    return\n"
   ]
  }
 ],
 "metadata": {
  "kernelspec": {
   "display_name": "Python 3",
   "language": "python",
   "name": "python3"
  },
  "language_info": {
   "codemirror_mode": {
    "name": "ipython",
    "version": 3
   },
   "file_extension": ".py",
   "mimetype": "text/x-python",
   "name": "python",
   "nbconvert_exporter": "python",
   "pygments_lexer": "ipython3",
   "version": "3.7.1"
  }
 },
 "nbformat": 4,
 "nbformat_minor": 2
}
